{
 "cells": [
  {
   "cell_type": "markdown",
   "metadata": {},
   "source": [
    "# Wrangle Report"
   ]
  },
  {
   "cell_type": "markdown",
   "metadata": {},
   "source": [
    "My data wrangling efforts are pretty well documented within the notebook that contains the code. On a more broader scale, the majority of the work of this project came in working with the twitter api and assessing and cleaning the data once it was gathered. This was actually my first time using an api of any kind first-hand and I was amazed at the amount of utilities that are provided to the general public. It was a little confusing getting started with the keys, tokens, and secrets and all the app settings within the twitter api. I also saw that there was a method for pulling up to 100 tweets at a time instead of just 1 which would have drastically reduced the amount of time it took to pull the data for the tweet_data dataframe. I recognize that there are also still a number of quality and tidy issues with the dataframes but I believe that I got the dataframes into a relatively workable state. Some of the issues that I dealt with were extremely simple and some were more complex. The two biggest sticking points I had cleaning the data was first in merging the data from tweet_data and the tweets dataframe and merging the dog class columns. I'm sure there were more optimal ways than those that I implemented but this is a relatively small dataset and my implementations did not affect the runtime that much. Finally, it was such a great payoff at the end of the report to have all the data in a clean and easily usable format and then generate the insights and statistics. Although I did a very rudimentary exploratory data analysis, I was already brainstorming new ways that I could look into the data. I also want to mention now that I have experience in both R and Python that the cleaning and analysis phases of a project like this feels like it would be much easier and prettier in R."
   ]
  }
 ],
 "metadata": {
  "kernelspec": {
   "display_name": "Python 3",
   "language": "python",
   "name": "python3"
  },
  "language_info": {
   "codemirror_mode": {
    "name": "ipython",
    "version": 3
   },
   "file_extension": ".py",
   "mimetype": "text/x-python",
   "name": "python",
   "nbconvert_exporter": "python",
   "pygments_lexer": "ipython3",
   "version": "3.6.4"
  }
 },
 "nbformat": 4,
 "nbformat_minor": 2
}
